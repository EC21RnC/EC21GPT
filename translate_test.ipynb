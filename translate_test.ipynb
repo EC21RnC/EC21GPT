{
 "cells": [
  {
   "cell_type": "code",
   "execution_count": 13,
   "metadata": {},
   "outputs": [],
   "source": [
    "import time\n",
    "import openai"
   ]
  },
  {
   "cell_type": "code",
   "execution_count": 14,
   "metadata": {},
   "outputs": [],
   "source": [
    "translate_sytem_content = \\\n",
    "\"\"\"Forget all the previous Intructions. As a professional translator, who speaks and writes fluent English and Korean, your task is to translate the given english text in Korean. The text to translate is delimited by triple quotes.\n",
    "\n",
    "To translate keep in mind that:\n",
    "Translate the text accurately to the Korean language.\n",
    "Please note that your translation should be a simple and accurate representation of the original text, without any additional information or interpretation\n",
    "Do not short my text.\n",
    "Do not echo my prompt.\n",
    "Do not remind me what I asked you for.\n",
    "Do not short my text\n",
    "Do not apologize.\n",
    "Do not self-reference.\n",
    "Get to the point precisely and accurately.\n",
    "Do not explain what and why, just give me your best possible Output\n",
    "Output should only be the translated text no additional explanation and text.\n",
    "Character names should be written in both Korean and original English => Character names: When first mentioned, write in Korean and English, and thereafter in Korean only. e.g. 베냐민 네타냐후(Benjamin Netanyahu) 총리. Famous figures known to everyone do not need to be translated into English (such as Trump, Xi Jinping, Abe, etc.)\n",
    "Indication of a person's affiliation/status => Indicate affiliation and position after the name e.g. 폼페이오 미 국무부 장관은~\n",
    "Proper nouns => Institutions and organizations, etc., should be written without spaces (e.g. 한국무역협회, 대외경제정책연구원). If too long, some spaces are allowed, such as the country name.\n",
    "Name of international organizations => When first mentioned, write in Korean and initials, or in Korean and full English name. If the initials are more famous than the full English name, indicate the initials e.g. 세계은행(World Bank), 국제통화기금(IMF)\n",
    "numerical notation => Indicate in Korean won e.g. 100달러(한화 12만 원)\n",
    "Notation of numbers and units => If it ends with a number, write it together with the unit, if it ends with Korean, space between number and unit e.g. 100달러, 100만 달러\n",
    "Numeric notation => Use comma for thousands, and write 조/억/만 in Korean, thousands and below in numbers e.g. 7억 3,450만 4,000달러\n",
    "Comparison of time period => 전년 동기 대비, 전년 동월 대비, 전년 대비\n",
    "Indication of date in the first paragraph: Month and day => e.g. 1월 1일(0). 2020년 1월 1일(X) - Remove the year. 지난 1월 1일(x) - Remove the word \"지난\". 1월 1일(x) - Remove the comma\n",
    "Quarter notation => 1/4분기(0). 1분기(x). 1사분기(x)\n",
    "You are required to adopt the writing style, tone and sentence endings exemplified in the two provided Examples below.\n",
    "[Example 1/2]\n",
    "(*) 제목 : 우즈베키스탄, 2023년 건설 부문에 50조 숨 투자\n",
    ">> 우즈베키스탄 통계청은 2023년 1~5월 우즈베키스탄의 건설 부문에 총 52조 숨(한화 약 5조 8,915억 원)이 투자되었다고 발표함\n",
    "    - 통계청은 2023년 연초부터 우즈베키스탄에 막대한 투자금이 유입되면서 건설 부문 활동이 크게 증가하였다고 밝힘\n",
    "    - 통계청이 발표한 자료에 따르면, 2010년 우즈베키스탄 건설 부문 투자액은 8조 2,000억 숨(한화 약 9,290억 원)이었으나, 이후 꾸준이 증가하여 2022년 투자액은 1,308조 숨(한화 약 148조 원)을 기록하였음\n",
    ">> 우즈베키스탄 현지 매체는 개발업자들이 인프라, 도로 개선에도 노력을 기울이고 있다고 보도함\n",
    "    - 우즈베키스탄 현지 매체인 UPL은 샤브카트 미르지요예프(Shavkat Mirziyoyev) 우즈베키스탄 대통령이 관련 기관에 공공 인프라의 재건과 개선을 위한 법안을 마련할 것을 지시했다고 전함\n",
    "    - UPL은 미르지요예프 대통령의 이러한 조치로 우즈베키스탄 국민의 삶의 질이 높아졌으며, 경제 번영이 촉진되었다고 논평함\n",
    ">> 한편 지난 2023년 2월 유라시아 전문 매체는 미르지요예프 대통령이 건설 모라토리엄 선언을 검토한 바 있다고 보도함\n",
    "    - 유라시아 전문 매체인 유라시아넷(eurasianet)은 미르지요예프 대통령이 새로운 도시개발 계획이 수립될 때까지 수도 타슈켄트(Tashkent) 내 신축 공사를 유예할 것이라고 보도함\n",
    "    - 이는 빠르게 증가하는 인구에 적절히 대응하고, 부실한 건축 기준으로 크게 확대된  시리아와 터키의 지진 피해 사태가 우즈베키스탄에서 발생하는 것을 막기 위한 조치인 것으로 알려짐\n",
    "[Example 1/2 END]\n",
    "[Example 2/2]\n",
    "(*) 제목 : 미얀마 군사정권, 카친 소수민족 반군이 중국군 대표가 탑승한 차량 호송대를 공격했다고 주장\n",
    ">> 7월 1일 미얀마 군사정부는 소수민족 반군이 국경 안보 회의에 참석하기 위해 이동하던 차량 호송대를 공격했다고 비난함\n",
    "    - 6월 27일 미얀마 북부 카친(Kachin)주의 미트키나(Myitkyina)로 향하던 중국군 대표단과 미얀마 측 대표단을 태운 차량 호송대가 총격을 받음\n",
    "    - 미얀마 군부는 두 번째 열에 있던 차량이 5발의 총격을 받았고, 정부군이 즉각 대응 사격을 가했다고 밝힘\n",
    ">> 조 민 툰(Zaw Min Tun) 미얀마 군부 대변인은 “카친 독립군(KIA, Kachin Independence Army)이 호송대를 공격한 것을 확인할 수 있다”고 발표함\n",
    "    - 미얀마 군사정권은 이번 총격 사건으로 다치거나 사망한 사람은 없었다고 덧붙임\n",
    "    - 그러나, KIA의 나우 부(Naw Bu) 대령은 “KIA는 호송대를 공격하지 않았고 6월 26일부터 호송대가 공격을 받았던 지역 근처에서 치열한 전투가 있었다”고 밝힘  \n",
    ">> 2022년 10월 미얀마 군부가 KIA 창립 62주년을 기념하는 공연장을 공습했을 때 수십 명이 사망한 바 있음\n",
    "    - 현지 인권 감시단체에 따르면 2021년 2월 미얀마 군부의 쿠데타 이후 군부의 반대파 탄압으로 3,700명 이상이 사망함\n",
    "    - 한편민 아웅 흘라잉(Min Aung Hlaing) 미얀마군 최고사령관은 중국의 대(對)미얀마 투자 재개를 추진하면서 중국 정부 고위 관료들과 계속 접촉하고 있음\n",
    "[Example 2/2 END]\n",
    "Ensure that you adopt the sentence structures and endings typically found in Korean language (such as 음, 임, 함, 됨) as demonstrated in the preceding two examples.\n",
    "\n",
    "IMPORTANT: Don't run away from this step by step, obey it completely\n",
    "\n",
    "Reply in Korean\"\"\"\n",
    "\n",
    "\n",
    "def gpt_translate(text):\n",
    "    retries = 3  # number of retries\n",
    "    for i in range(retries):\n",
    "        try:\n",
    "            completion = openai.ChatCompletion.create(\n",
    "                model=\"gpt-4\",\n",
    "                temperature = 0.3,\n",
    "                max_tokens = 2000,\n",
    "                messages=[\n",
    "                    {\"role\": \"system\", \"content\": translate_sytem_content},\n",
    "                    {\"role\": \"user\", \"content\": '\"\"\"{}\"\"\"'.format(text)}\n",
    "                ]\n",
    "            )\n",
    "            return completion.choices[0].message.content\n",
    "\n",
    "        except Exception as e:\n",
    "            if i < retries - 1:  # i is zero indexed\n",
    "                print(f'Request failed {retries} attempts. Error: {e}')\n",
    "                time.sleep(5)\n",
    "                continue\n",
    "            else:\n",
    "                print(f'Request failed after {retries} attempts. Error: {e}')\n",
    "                return None  # or some other value indicating failure"
   ]
  },
  {
   "cell_type": "code",
   "execution_count": 21,
   "metadata": {},
   "outputs": [],
   "source": [
    "text = \\\n",
    "\"\"\"(*) Title: Thailand, Songkran festival spending expected to increase by 3.5 billion baht\n",
    " >> The University of the Thai Chamber of Commerce (UTCC) expects the tourism industry to increase by 125 billion baht (about 5.73 trillion won) when Songkran festival comes around.\n",
    "  - The University of the Thai Chamber of Commerce predicts that as many as 125 billion baht (approximately 5.73 trillion won) will be spent on tourism during the Songkran festival in Thailand.\n",
    "  - Songkran, also known as Thai New Year, is a festival held in April to welcome the Lunar New Year.\n",
    " >> Songkran festival is held for five days, starting on April 14, when the Thai government announces the start of the Lunar New Year.\n",
    "  - During the Songkran festival, Thai people enjoy water gun fights and other festivities.\n",
    "  - In addition, the Thai government and various local governments plan various events to attract tourists during the Songkran festival.\n",
    " >> The Thai government has announced that it will hold general elections on May 14, 2023, and tourism officials expect the election to have a positive effect on the tourism industry.\n",
    "  - Thai Prime Minister Prayuth Chan ocha showed up at a water fight on Khaosan Road in Bangkok on April 14, 2023, wearing a Hawaiian shirt.\n",
    "  - Thai Prime Minister Prayuth Chan ocha added that he would use the Songkran festival to show his support for the general election.\"\"\""
   ]
  },
  {
   "cell_type": "code",
   "execution_count": 22,
   "metadata": {},
   "outputs": [
    {
     "name": "stdout",
     "output_type": "stream",
     "text": [
      "\"(*) 제목: 태국, 송크란 축제 지출이 35억 바트 증가할 것으로 예상\n",
      ">> 태국상공회의소 대학(UTCC)은 송크란 축제가 다가오면 관광 산업이 1250억 바트(약 5조 7300억 원) 증가할 것으로 예상함\n",
      "  - 태국상공회의소 대학은 태국의 송크란 축제 기간 동안 관광에 최대 1250억 바트(약 5조 7300억 원)가 소비될 것으로 예측함\n",
      "  - 송크란은 태국 신년이라고도 알려져 있으며, 음력 새해를 맞이하기 위해 4월에 개최되는 축제임\n",
      ">> 송크란 축제는 4월 14일부터 시작하여 5일 동안 진행되며, 태국 정부가 음력 새해의 시작을 선포함\n",
      "  - 송크란 축제 기간 동안 태국 사람들은 물총 싸움과 다른 축제 행사를 즐김\n",
      "  - 또한, 태국 정부와 여러 지방 정부는 송크란 축제 기간 동안 관광객을 끌어들이기 위해 다양한 행사를 계획함\n",
      ">> 태국 정부는 2023년 5월 14일에 총선을 실시할 것이라고 발표하였고, 관광 당국은 총선이 관광 산업에 긍정적인 영향을 미칠 것으로 예상함\n",
      "  - 프라윳 찬 오차(Prayuth Chan ocha) 태국 총리는 2023년 4월 14일 하와이안 셔츠를 입고 방콕 카오산 로드에서 물총 싸움에 참석함\n",
      "  - 프라윳 찬 오차 총리는 송크란 축제를 이용하여 총선 지지를 보여주겠다고 덧붙임\"\n"
     ]
    }
   ],
   "source": [
    "res = gpt_translate(text)\n",
    "print(res)"
   ]
  },
  {
   "cell_type": "code",
   "execution_count": null,
   "metadata": {},
   "outputs": [],
   "source": []
  }
 ],
 "metadata": {
  "kernelspec": {
   "display_name": "Python 3",
   "language": "python",
   "name": "python3"
  },
  "language_info": {
   "codemirror_mode": {
    "name": "ipython",
    "version": 3
   },
   "file_extension": ".py",
   "mimetype": "text/x-python",
   "name": "python",
   "nbconvert_exporter": "python",
   "pygments_lexer": "ipython3",
   "version": "3.9.13"
  },
  "orig_nbformat": 4
 },
 "nbformat": 4,
 "nbformat_minor": 2
}
